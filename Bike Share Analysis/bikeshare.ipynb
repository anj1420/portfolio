{
 "cells": [
  {
   "cell_type": "markdown",
   "metadata": {},
   "source": [
    "## Project 1 Part 3: An Analysis on Commuter Trips and Business Offer Suggestions"
   ]
  },
  {
   "cell_type": "markdown",
   "metadata": {},
   "source": [
    "### Preparation"
   ]
  },
  {
   "cell_type": "markdown",
   "metadata": {},
   "source": [
    "#### Importing/Updating google-cloud-bigquery"
   ]
  },
  {
   "cell_type": "code",
   "execution_count": 3,
   "metadata": {},
   "outputs": [
    {
     "name": "stdout",
     "output_type": "stream",
     "text": [
      "Collecting package metadata (current_repodata.json): done\n",
      "Solving environment: done\n",
      "\n",
      "# All requested packages already installed.\n",
      "\n"
     ]
    }
   ],
   "source": [
    "!sudo /opt/conda/bin/conda install -c conda-forge google-cloud-bigquery google-cloud-bigquery-storage pandas pyarrow --yes"
   ]
  },
  {
   "cell_type": "code",
   "execution_count": 4,
   "metadata": {},
   "outputs": [
    {
     "name": "stdout",
     "output_type": "stream",
     "text": [
      "Requirement already satisfied: google-cloud-bigquery in /opt/conda/lib/python3.7/site-packages (1.26.1)\n",
      "Requirement already satisfied: google-api-core<2.0dev,>=1.21.0 in /opt/conda/lib/python3.7/site-packages (from google-cloud-bigquery) (1.22.1)\n",
      "Requirement already satisfied: google-resumable-media<2.0dev,>=0.5.0 in /opt/conda/lib/python3.7/site-packages (from google-cloud-bigquery) (1.0.0)\n",
      "Requirement already satisfied: six<2.0.0dev,>=1.13.0 in /opt/conda/lib/python3.7/site-packages (from google-cloud-bigquery) (1.15.0)\n",
      "Requirement already satisfied: google-cloud-core<2.0dev,>=1.1.0 in /opt/conda/lib/python3.7/site-packages (from google-cloud-bigquery) (1.4.1)\n",
      "Requirement already satisfied: googleapis-common-protos<2.0dev,>=1.6.0 in /opt/conda/lib/python3.7/site-packages (from google-api-core<2.0dev,>=1.21.0->google-cloud-bigquery) (1.51.0)\n",
      "Requirement already satisfied: google-auth<2.0dev,>=1.19.1 in /opt/conda/lib/python3.7/site-packages (from google-api-core<2.0dev,>=1.21.0->google-cloud-bigquery) (1.20.1)\n",
      "Requirement already satisfied: requests<3.0.0dev,>=2.18.0 in /opt/conda/lib/python3.7/site-packages (from google-api-core<2.0dev,>=1.21.0->google-cloud-bigquery) (2.24.0)\n",
      "Requirement already satisfied: pytz in /opt/conda/lib/python3.7/site-packages (from google-api-core<2.0dev,>=1.21.0->google-cloud-bigquery) (2020.1)\n",
      "Requirement already satisfied: setuptools>=34.0.0 in /opt/conda/lib/python3.7/site-packages (from google-api-core<2.0dev,>=1.21.0->google-cloud-bigquery) (49.6.0.post20200814)\n",
      "Requirement already satisfied: protobuf>=3.12.0 in /opt/conda/lib/python3.7/site-packages (from google-api-core<2.0dev,>=1.21.0->google-cloud-bigquery) (3.13.0)\n",
      "Requirement already satisfied: google-crc32c<2.0dev,>=1.0; python_version >= \"3.5\" in /opt/conda/lib/python3.7/site-packages (from google-resumable-media<2.0dev,>=0.5.0->google-cloud-bigquery) (1.0.0)\n",
      "Requirement already satisfied: cachetools<5.0,>=2.0.0 in /opt/conda/lib/python3.7/site-packages (from google-auth<2.0dev,>=1.19.1->google-api-core<2.0dev,>=1.21.0->google-cloud-bigquery) (4.1.1)\n",
      "Requirement already satisfied: rsa<5,>=3.1.4; python_version >= \"3.5\" in /opt/conda/lib/python3.7/site-packages (from google-auth<2.0dev,>=1.19.1->google-api-core<2.0dev,>=1.21.0->google-cloud-bigquery) (4.6)\n",
      "Requirement already satisfied: pyasn1-modules>=0.2.1 in /opt/conda/lib/python3.7/site-packages (from google-auth<2.0dev,>=1.19.1->google-api-core<2.0dev,>=1.21.0->google-cloud-bigquery) (0.2.8)\n",
      "Requirement already satisfied: idna<3,>=2.5 in /opt/conda/lib/python3.7/site-packages (from requests<3.0.0dev,>=2.18.0->google-api-core<2.0dev,>=1.21.0->google-cloud-bigquery) (2.10)\n",
      "Requirement already satisfied: chardet<4,>=3.0.2 in /opt/conda/lib/python3.7/site-packages (from requests<3.0.0dev,>=2.18.0->google-api-core<2.0dev,>=1.21.0->google-cloud-bigquery) (3.0.4)\n",
      "Requirement already satisfied: certifi>=2017.4.17 in /opt/conda/lib/python3.7/site-packages (from requests<3.0.0dev,>=2.18.0->google-api-core<2.0dev,>=1.21.0->google-cloud-bigquery) (2020.6.20)\n",
      "Requirement already satisfied: urllib3!=1.25.0,!=1.25.1,<1.26,>=1.21.1 in /opt/conda/lib/python3.7/site-packages (from requests<3.0.0dev,>=2.18.0->google-api-core<2.0dev,>=1.21.0->google-cloud-bigquery) (1.25.10)\n",
      "Requirement already satisfied: cffi>=1.0.0 in /opt/conda/lib/python3.7/site-packages (from google-crc32c<2.0dev,>=1.0; python_version >= \"3.5\"->google-resumable-media<2.0dev,>=0.5.0->google-cloud-bigquery) (1.14.1)\n",
      "Requirement already satisfied: pyasn1>=0.1.3 in /opt/conda/lib/python3.7/site-packages (from rsa<5,>=3.1.4; python_version >= \"3.5\"->google-auth<2.0dev,>=1.19.1->google-api-core<2.0dev,>=1.21.0->google-cloud-bigquery) (0.4.8)\n",
      "Requirement already satisfied: pycparser in /opt/conda/lib/python3.7/site-packages (from cffi>=1.0.0->google-crc32c<2.0dev,>=1.0; python_version >= \"3.5\"->google-resumable-media<2.0dev,>=0.5.0->google-cloud-bigquery) (2.20)\n",
      "Note: you may need to restart the kernel to use updated packages.\n"
     ]
    }
   ],
   "source": [
    "%pip install google-cloud-bigquery"
   ]
  },
  {
   "cell_type": "markdown",
   "metadata": {},
   "source": [
    "#### Importing pandas, seaborn, and other necessary packages"
   ]
  },
  {
   "cell_type": "code",
   "execution_count": 5,
   "metadata": {},
   "outputs": [],
   "source": [
    "import pandas as pd\n",
    "import seaborn as sns\n",
    "import matplotlib as plt"
   ]
  },
  {
   "cell_type": "markdown",
   "metadata": {},
   "source": [
    "# Commuter Trips + Recommendations"
   ]
  },
  {
   "cell_type": "markdown",
   "metadata": {},
   "source": [
    "In order to demonstrate the relationship between commuter trips and timing, we can investigate more into the starting hour for trips and see the frequency of trips at each of those hours. "
   ]
  },
  {
   "cell_type": "markdown",
   "metadata": {},
   "source": [
    "Let us run the following query as a bq that will result in the csv file 'trips_by_hour.csv':\n",
    "   \n",
    "```sql\n",
    "WITH start_end_hour_extracted AS (\n",
    "SELECT *,\n",
    "       EXTRACT(HOUR FROM start_date) AS start_hour,\n",
    "       CASE \n",
    "           WHEN EXTRACT(HOUR FROM start_date) <= 5  OR EXTRACT(HOUR FROM start_date) >= 23 THEN \"Nightime\"\n",
    "           WHEN EXTRACT(HOUR FROM start_date) >= 6 and EXTRACT(HOUR FROM start_date) <= 8 THEN \"Morning\"\n",
    "           WHEN EXTRACT(HOUR FROM start_date) >= 9 and EXTRACT(HOUR FROM start_date) <= 10 THEN \"Mid Morning\"\n",
    "           WHEN EXTRACT(HOUR FROM start_date) >= 11 and EXTRACT(HOUR FROM start_date) <= 13 THEN \"Mid Day\"\n",
    "           WHEN EXTRACT(HOUR FROM start_date) >= 14 and EXTRACT(HOUR FROM start_date) <= 16 THEN \"Early Afternoon\"\n",
    "           WHEN EXTRACT(HOUR FROM start_date) >= 17 and EXTRACT(HOUR FROM start_date) <= 19 THEN \"Afternoon\"\n",
    "           WHEN EXTRACT(HOUR FROM start_date) >= 20 and EXTRACT(HOUR FROM start_date) <= 22 THEN \"Evening\"\n",
    "           END AS start_hour_str,\n",
    "       EXTRACT(HOUR FROM end_date) AS end_hour,\n",
    "       CASE \n",
    "           WHEN EXTRACT(HOUR FROM end_date) <= 5  OR EXTRACT(HOUR FROM end_date) >= 23 THEN \"Nightime\"\n",
    "           WHEN EXTRACT(HOUR FROM end_date) >= 6 and EXTRACT(HOUR FROM end_date) <= 8 THEN \"Morning\"\n",
    "           WHEN EXTRACT(HOUR FROM end_date) >= 9 and EXTRACT(HOUR FROM end_date) <= 10 THEN \"Mid Morning\"\n",
    "           WHEN EXTRACT(HOUR FROM end_date) >= 11 and EXTRACT(HOUR FROM end_date) <= 13 THEN \"Mid Day\"\n",
    "           WHEN EXTRACT(HOUR FROM end_date) >= 14 and EXTRACT(HOUR FROM end_date) <= 16 THEN \"Early Afternoon\"\n",
    "           WHEN EXTRACT(HOUR FROM end_date) >= 17 and EXTRACT(HOUR FROM end_date) <= 19 THEN \"Afternoon\"\n",
    "           WHEN EXTRACT(HOUR FROM end_date) >= 20 and EXTRACT(HOUR FROM end_date) <= 22 THEN \"Evening\"\n",
    "           END AS end_hour_str\n",
    "FROM `bigquery-public-data.san_francisco.bikeshare_trips`\n",
    ")\n",
    "SELECT start_hour,count(*) as trips_by_hour\n",
    "FROM start_end_hour_extracted\n",
    "GROUP by start_hour\n",
    "ORDER by trips_by_hour DESC\n",
    "```"
   ]
  },
  {
   "cell_type": "markdown",
   "metadata": {},
   "source": [
    "<!-- Let's run the following query as a bq and save it as the csv file 'trips_by_hour.csv': \n",
    "\n",
    "WITH start_end_hour_extracted AS (\n",
    "SELECT *,\n",
    "       EXTRACT(HOUR FROM start_date) AS start_hour,\n",
    "       CASE \n",
    "           WHEN EXTRACT(HOUR FROM start_date) <= 5  OR EXTRACT(HOUR FROM start_date) >= 23 THEN \"Nightime\"\n",
    "           WHEN EXTRACT(HOUR FROM start_date) >= 6 and EXTRACT(HOUR FROM start_date) <= 8 THEN \"Morning\"\n",
    "           WHEN EXTRACT(HOUR FROM start_date) >= 9 and EXTRACT(HOUR FROM start_date) <= 10 THEN \"Mid Morning\"\n",
    "           WHEN EXTRACT(HOUR FROM start_date) >= 11 and EXTRACT(HOUR FROM start_date) <= 13 THEN \"Mid Day\"\n",
    "           WHEN EXTRACT(HOUR FROM start_date) >= 14 and EXTRACT(HOUR FROM start_date) <= 16 THEN \"Early Afternoon\"\n",
    "           WHEN EXTRACT(HOUR FROM start_date) >= 17 and EXTRACT(HOUR FROM start_date) <= 19 THEN \"Afternoon\"\n",
    "           WHEN EXTRACT(HOUR FROM start_date) >= 20 and EXTRACT(HOUR FROM start_date) <= 22 THEN \"Evening\"\n",
    "           END AS start_hour_str,\n",
    "       EXTRACT(HOUR FROM end_date) AS end_hour,\n",
    "       CASE \n",
    "           WHEN EXTRACT(HOUR FROM end_date) <= 5  OR EXTRACT(HOUR FROM end_date) >= 23 THEN \"Nightime\"\n",
    "           WHEN EXTRACT(HOUR FROM end_date) >= 6 and EXTRACT(HOUR FROM end_date) <= 8 THEN \"Morning\"\n",
    "           WHEN EXTRACT(HOUR FROM end_date) >= 9 and EXTRACT(HOUR FROM end_date) <= 10 THEN \"Mid Morning\"\n",
    "           WHEN EXTRACT(HOUR FROM end_date) >= 11 and EXTRACT(HOUR FROM end_date) <= 13 THEN \"Mid Day\"\n",
    "           WHEN EXTRACT(HOUR FROM end_date) >= 14 and EXTRACT(HOUR FROM end_date) <= 16 THEN \"Early Afternoon\"\n",
    "           WHEN EXTRACT(HOUR FROM end_date) >= 17 and EXTRACT(HOUR FROM end_date) <= 19 THEN \"Afternoon\"\n",
    "           WHEN EXTRACT(HOUR FROM end_date) >= 20 and EXTRACT(HOUR FROM end_date) <= 22 THEN \"Evening\"\n",
    "           END AS end_hour_str\n",
    "FROM `bigquery-public-data.san_francisco.bikeshare_trips`\n",
    ")\n",
    "SELECT start_hour,count(*) as trips_by_hour\n",
    "FROM start_end_hour_extracted\n",
    "GROUP by start_hour\n",
    "ORDER by trips_by_hour DESC -->"
   ]
  },
  {
   "cell_type": "code",
   "execution_count": 14,
   "metadata": {},
   "outputs": [
    {
     "name": "stdout",
     "output_type": "stream",
     "text": [
      "Waiting on bqjob_r29b8f0ee17e2a8a7_00000174e6704d40_1 ... (1s) Current status: DONE   \n"
     ]
    }
   ],
   "source": [
    "! bq query --use_legacy_sql=FALSE --format=csv 'WITH start_end_hour_extracted AS (SELECT *, EXTRACT(HOUR FROM start_date) AS start_hour, CASE  WHEN EXTRACT(HOUR FROM start_date) <= 5  OR EXTRACT(HOUR FROM start_date) >= 23 THEN \"Nightime\" WHEN EXTRACT(HOUR FROM start_date) >= 6 and EXTRACT(HOUR FROM start_date) <= 8 THEN \"Morning\" WHEN EXTRACT(HOUR FROM start_date) >= 9 and EXTRACT(HOUR FROM start_date) <= 10 THEN \"Mid Morning\" WHEN EXTRACT(HOUR FROM start_date) >= 11 and EXTRACT(HOUR FROM start_date) <= 13 THEN \"Mid Day\" WHEN EXTRACT(HOUR FROM start_date) >= 14 and EXTRACT(HOUR FROM start_date) <= 16 THEN \"Early Afternoon\" WHEN EXTRACT(HOUR FROM start_date) >= 17 and EXTRACT(HOUR FROM start_date) <= 19 THEN \"Afternoon\" WHEN EXTRACT(HOUR FROM start_date) >= 20 and EXTRACT(HOUR FROM start_date) <= 22 THEN \"Evening\" END AS start_hour_str, EXTRACT(HOUR FROM end_date) AS end_hour, CASE  WHEN EXTRACT(HOUR FROM end_date) <= 5  OR EXTRACT(HOUR FROM end_date) >= 23 THEN \"Nightime\" WHEN EXTRACT(HOUR FROM end_date) >= 6 and EXTRACT(HOUR FROM end_date) <= 8 THEN \"Morning\" WHEN EXTRACT(HOUR FROM end_date) >= 9 and EXTRACT(HOUR FROM end_date) <= 10 THEN \"Mid Morning\" WHEN EXTRACT(HOUR FROM end_date) >= 11 and EXTRACT(HOUR FROM end_date) <= 13 THEN \"Mid Day\" WHEN EXTRACT(HOUR FROM end_date) >= 14 and EXTRACT(HOUR FROM end_date) <= 16 THEN \"Early Afternoon\" WHEN EXTRACT(HOUR FROM end_date) >= 17 and EXTRACT(HOUR FROM end_date) <= 19 THEN \"Afternoon\" WHEN EXTRACT(HOUR FROM end_date) >= 20 and EXTRACT(HOUR FROM end_date) <= 22 THEN \"Evening\" END AS end_hour_str FROM `bigquery-public-data.san_francisco.bikeshare_trips`) SELECT start_hour,count(*) as trips_by_hour FROM start_end_hour_extracted GROUP by start_hour ORDER by trips_by_hour DESC' > trips_by_hour.csv"
   ]
  },
  {
   "cell_type": "code",
   "execution_count": 15,
   "metadata": {},
   "outputs": [
    {
     "data": {
      "text/html": [
       "<div>\n",
       "<style scoped>\n",
       "    .dataframe tbody tr th:only-of-type {\n",
       "        vertical-align: middle;\n",
       "    }\n",
       "\n",
       "    .dataframe tbody tr th {\n",
       "        vertical-align: top;\n",
       "    }\n",
       "\n",
       "    .dataframe thead th {\n",
       "        text-align: right;\n",
       "    }\n",
       "</style>\n",
       "<table border=\"1\" class=\"dataframe\">\n",
       "  <thead>\n",
       "    <tr style=\"text-align: right;\">\n",
       "      <th></th>\n",
       "      <th>start_hour</th>\n",
       "      <th>trips_by_hour</th>\n",
       "    </tr>\n",
       "  </thead>\n",
       "  <tbody>\n",
       "    <tr>\n",
       "      <th>0</th>\n",
       "      <td>8</td>\n",
       "      <td>132464</td>\n",
       "    </tr>\n",
       "    <tr>\n",
       "      <th>1</th>\n",
       "      <td>17</td>\n",
       "      <td>126302</td>\n",
       "    </tr>\n",
       "    <tr>\n",
       "      <th>2</th>\n",
       "      <td>9</td>\n",
       "      <td>96118</td>\n",
       "    </tr>\n",
       "    <tr>\n",
       "      <th>3</th>\n",
       "      <td>16</td>\n",
       "      <td>88755</td>\n",
       "    </tr>\n",
       "    <tr>\n",
       "      <th>4</th>\n",
       "      <td>18</td>\n",
       "      <td>84569</td>\n",
       "    </tr>\n",
       "    <tr>\n",
       "      <th>5</th>\n",
       "      <td>7</td>\n",
       "      <td>67531</td>\n",
       "    </tr>\n",
       "    <tr>\n",
       "      <th>6</th>\n",
       "      <td>15</td>\n",
       "      <td>47626</td>\n",
       "    </tr>\n",
       "    <tr>\n",
       "      <th>7</th>\n",
       "      <td>12</td>\n",
       "      <td>46950</td>\n",
       "    </tr>\n",
       "    <tr>\n",
       "      <th>8</th>\n",
       "      <td>13</td>\n",
       "      <td>43714</td>\n",
       "    </tr>\n",
       "    <tr>\n",
       "      <th>9</th>\n",
       "      <td>10</td>\n",
       "      <td>42782</td>\n",
       "    </tr>\n",
       "    <tr>\n",
       "      <th>10</th>\n",
       "      <td>19</td>\n",
       "      <td>41071</td>\n",
       "    </tr>\n",
       "    <tr>\n",
       "      <th>11</th>\n",
       "      <td>11</td>\n",
       "      <td>40407</td>\n",
       "    </tr>\n",
       "    <tr>\n",
       "      <th>12</th>\n",
       "      <td>14</td>\n",
       "      <td>37852</td>\n",
       "    </tr>\n",
       "    <tr>\n",
       "      <th>13</th>\n",
       "      <td>20</td>\n",
       "      <td>22747</td>\n",
       "    </tr>\n",
       "    <tr>\n",
       "      <th>14</th>\n",
       "      <td>6</td>\n",
       "      <td>20519</td>\n",
       "    </tr>\n",
       "    <tr>\n",
       "      <th>15</th>\n",
       "      <td>21</td>\n",
       "      <td>15258</td>\n",
       "    </tr>\n",
       "    <tr>\n",
       "      <th>16</th>\n",
       "      <td>22</td>\n",
       "      <td>10270</td>\n",
       "    </tr>\n",
       "    <tr>\n",
       "      <th>17</th>\n",
       "      <td>23</td>\n",
       "      <td>6195</td>\n",
       "    </tr>\n",
       "    <tr>\n",
       "      <th>18</th>\n",
       "      <td>5</td>\n",
       "      <td>5098</td>\n",
       "    </tr>\n",
       "    <tr>\n",
       "      <th>19</th>\n",
       "      <td>0</td>\n",
       "      <td>2929</td>\n",
       "    </tr>\n",
       "    <tr>\n",
       "      <th>20</th>\n",
       "      <td>1</td>\n",
       "      <td>1611</td>\n",
       "    </tr>\n",
       "    <tr>\n",
       "      <th>21</th>\n",
       "      <td>4</td>\n",
       "      <td>1398</td>\n",
       "    </tr>\n",
       "    <tr>\n",
       "      <th>22</th>\n",
       "      <td>2</td>\n",
       "      <td>877</td>\n",
       "    </tr>\n",
       "    <tr>\n",
       "      <th>23</th>\n",
       "      <td>3</td>\n",
       "      <td>605</td>\n",
       "    </tr>\n",
       "  </tbody>\n",
       "</table>\n",
       "</div>"
      ],
      "text/plain": [
       "    start_hour  trips_by_hour\n",
       "0            8         132464\n",
       "1           17         126302\n",
       "2            9          96118\n",
       "3           16          88755\n",
       "4           18          84569\n",
       "5            7          67531\n",
       "6           15          47626\n",
       "7           12          46950\n",
       "8           13          43714\n",
       "9           10          42782\n",
       "10          19          41071\n",
       "11          11          40407\n",
       "12          14          37852\n",
       "13          20          22747\n",
       "14           6          20519\n",
       "15          21          15258\n",
       "16          22          10270\n",
       "17          23           6195\n",
       "18           5           5098\n",
       "19           0           2929\n",
       "20           1           1611\n",
       "21           4           1398\n",
       "22           2            877\n",
       "23           3            605"
      ]
     },
     "execution_count": 15,
     "metadata": {},
     "output_type": "execute_result"
    }
   ],
   "source": [
    "trips_by_hour = pd.read_csv('trips_by_hour.csv')\n",
    "trips_by_hour"
   ]
  },
  {
   "cell_type": "markdown",
   "metadata": {},
   "source": [
    "By having sorted the data by trips_by_hour in descending order, it appears that the hours 8, 17, 9, 16, and 18, corresponding to 8 am, 5 pm, 9 am, 4 pm, and 6 pm, respectively are the top 5 hours with the most trips associated with them. In the bar chart below, we see the highest bars at those times, and compared to the rest of the hours, there is a significant difference amongst the trip count. In the night time we see very few rides, but as it becomes early morning, we see the number of rides dramatically increase as it hits 7 am. In the late morning/early afternoon period the number of rides decrease, and then pick back up at around 4pm and 5 pm, followed by steady decline in rides. \n",
    "\n",
    "These times correspond with the standard work day that begins at 8 or 9 am and ends at 4pm or 5 pm. These are times where people are rushing to get to work and leave work, and therefore there is a higher likelihood of congestion and vehicles on the road at the time. In addition, it is highly likely that it is the same group of people who would be taking these trips every day of the work week. "
   ]
  },
  {
   "cell_type": "code",
   "execution_count": 17,
   "metadata": {},
   "outputs": [
    {
     "data": {
      "text/plain": [
       "Text(0.5, 1.0, 'Starting Hour vs Total Number of Trips')"
      ]
     },
     "execution_count": 17,
     "metadata": {},
     "output_type": "execute_result"
    },
    {
     "data": {
      "image/png": "[encoded data removed]",
      "text/plain": [
       "<Figure size 432x288 with 1 Axes>"
      ]
     },
     "metadata": {
      "needs_background": "light"
     },
     "output_type": "display_data"
    }
   ],
   "source": [
    "#Visualization of Starting Hour vs Total Number of Trips\n",
    "sns.barplot(x=\"start_hour\", y=\"trips_by_hour\", data=trips_by_hour).set_title('Starting Hour vs Total Number of Trips')"
   ]
  },
  {
   "cell_type": "markdown",
   "metadata": {},
   "source": [
    "Let us now look more into the days of the week and see how that corresponds to the number of trips, the type of trips, and the hours of the day. We would like to observe which days of the week has the most trips and which has the least trips.\n",
    "\n"
   ]
  },
  {
   "cell_type": "markdown",
   "metadata": {},
   "source": [
    "Let us run the below query and save it as a csv file called 'dow_and_subscriber_counts.csv'\n",
    "\n",
    "```sql\n",
    "WITH start_day_extracted AS (\n",
    "SELECT *,\n",
    "     EXTRACT(DAYOFWEEK FROM start_date) AS start_dayofweek,\n",
    "     CASE EXTRACT(DAYOFWEEK FROM start_date)\n",
    "         WHEN 1 THEN \"Sunday\"\n",
    "         WHEN 2 THEN \"Monday\"\n",
    "         WHEN 3 THEN \"Tuesday\"\n",
    "         WHEN 4 THEN \"Wednesday\"\n",
    "         WHEN 5 THEN \"Thursday\"\n",
    "         WHEN 6 THEN \"Friday\"\n",
    "         WHEN 7 THEN \"Saturday\"\n",
    "         END AS start_dayofweek_str\n",
    "FROM `bigquery-public-data.san_francisco.bikeshare_trips`\n",
    ")\n",
    "SELECT start_dayofweek, start_dayofweek_str, subscriber_type, count(*) as trips_by_day_of_week\n",
    "FROM start_day_extracted\n",
    "GROUP by start_dayofweek, start_dayofweek_str, subscriber_type\n",
    "ORDER by start_dayofweek, start_dayofweek_str, subscriber_type ASC\n",
    "```"
   ]
  },
  {
   "cell_type": "code",
   "execution_count": 20,
   "metadata": {},
   "outputs": [
    {
     "name": "stdout",
     "output_type": "stream",
     "text": [
      "Waiting on bqjob_r4db25e3bd4c24517_00000174e6793c86_1 ... (1s) Current status: DONE   \n"
     ]
    }
   ],
   "source": [
    "! bq query --use_legacy_sql=FALSE --format=csv 'WITH start_day_extracted AS (SELECT *, EXTRACT(DAYOFWEEK FROM start_date) AS start_dayofweek, CASE EXTRACT(DAYOFWEEK FROM start_date) WHEN 1 THEN \"Sunday\" WHEN 2 THEN \"Monday\" WHEN 3 THEN \"Tuesday\" WHEN 4 THEN \"Wednesday\" WHEN 5 THEN \"Thursday\" WHEN 6 THEN \"Friday\" WHEN 7 THEN \"Saturday\" END AS start_dayofweek_str FROM `bigquery-public-data.san_francisco.bikeshare_trips`) SELECT start_dayofweek, start_dayofweek_str, subscriber_type, count(*) as trips_by_day_of_week FROM start_day_extracted GROUP by start_dayofweek, start_dayofweek_str, subscriber_type ORDER by start_dayofweek, start_dayofweek_str, subscriber_type ASC' > dow_and_subscriber_counts.csv  "
   ]
  },
  {
   "cell_type": "code",
   "execution_count": 22,
   "metadata": {},
   "outputs": [
    {
     "data": {
      "text/html": [
       "<div>\n",
       "<style scoped>\n",
       "    .dataframe tbody tr th:only-of-type {\n",
       "        vertical-align: middle;\n",
       "    }\n",
       "\n",
       "    .dataframe tbody tr th {\n",
       "        vertical-align: top;\n",
       "    }\n",
       "\n",
       "    .dataframe thead th {\n",
       "        text-align: right;\n",
       "    }\n",
       "</style>\n",
       "<table border=\"1\" class=\"dataframe\">\n",
       "  <thead>\n",
       "    <tr style=\"text-align: right;\">\n",
       "      <th></th>\n",
       "      <th>start_dayofweek</th>\n",
       "      <th>start_dayofweek_str</th>\n",
       "      <th>subscriber_type</th>\n",
       "      <th>trips_by_day_of_week</th>\n",
       "    </tr>\n",
       "  </thead>\n",
       "  <tbody>\n",
       "    <tr>\n",
       "      <th>0</th>\n",
       "      <td>1</td>\n",
       "      <td>Sunday</td>\n",
       "      <td>Customer</td>\n",
       "      <td>25908</td>\n",
       "    </tr>\n",
       "    <tr>\n",
       "      <th>1</th>\n",
       "      <td>1</td>\n",
       "      <td>Sunday</td>\n",
       "      <td>Subscriber</td>\n",
       "      <td>25467</td>\n",
       "    </tr>\n",
       "    <tr>\n",
       "      <th>2</th>\n",
       "      <td>2</td>\n",
       "      <td>Monday</td>\n",
       "      <td>Customer</td>\n",
       "      <td>15142</td>\n",
       "    </tr>\n",
       "    <tr>\n",
       "      <th>3</th>\n",
       "      <td>2</td>\n",
       "      <td>Monday</td>\n",
       "      <td>Subscriber</td>\n",
       "      <td>154795</td>\n",
       "    </tr>\n",
       "    <tr>\n",
       "      <th>4</th>\n",
       "      <td>3</td>\n",
       "      <td>Tuesday</td>\n",
       "      <td>Customer</td>\n",
       "      <td>14737</td>\n",
       "    </tr>\n",
       "    <tr>\n",
       "      <th>5</th>\n",
       "      <td>3</td>\n",
       "      <td>Tuesday</td>\n",
       "      <td>Subscriber</td>\n",
       "      <td>169668</td>\n",
       "    </tr>\n",
       "    <tr>\n",
       "      <th>6</th>\n",
       "      <td>4</td>\n",
       "      <td>Wednesday</td>\n",
       "      <td>Customer</td>\n",
       "      <td>15237</td>\n",
       "    </tr>\n",
       "    <tr>\n",
       "      <th>7</th>\n",
       "      <td>4</td>\n",
       "      <td>Wednesday</td>\n",
       "      <td>Subscriber</td>\n",
       "      <td>165530</td>\n",
       "    </tr>\n",
       "    <tr>\n",
       "      <th>8</th>\n",
       "      <td>5</td>\n",
       "      <td>Thursday</td>\n",
       "      <td>Customer</td>\n",
       "      <td>16612</td>\n",
       "    </tr>\n",
       "    <tr>\n",
       "      <th>9</th>\n",
       "      <td>5</td>\n",
       "      <td>Thursday</td>\n",
       "      <td>Subscriber</td>\n",
       "      <td>160296</td>\n",
       "    </tr>\n",
       "    <tr>\n",
       "      <th>10</th>\n",
       "      <td>6</td>\n",
       "      <td>Friday</td>\n",
       "      <td>Customer</td>\n",
       "      <td>19929</td>\n",
       "    </tr>\n",
       "    <tr>\n",
       "      <th>11</th>\n",
       "      <td>6</td>\n",
       "      <td>Friday</td>\n",
       "      <td>Subscriber</td>\n",
       "      <td>140048</td>\n",
       "    </tr>\n",
       "    <tr>\n",
       "      <th>12</th>\n",
       "      <td>7</td>\n",
       "      <td>Saturday</td>\n",
       "      <td>Customer</td>\n",
       "      <td>29244</td>\n",
       "    </tr>\n",
       "    <tr>\n",
       "      <th>13</th>\n",
       "      <td>7</td>\n",
       "      <td>Saturday</td>\n",
       "      <td>Subscriber</td>\n",
       "      <td>31035</td>\n",
       "    </tr>\n",
       "  </tbody>\n",
       "</table>\n",
       "</div>"
      ],
      "text/plain": [
       "    start_dayofweek start_dayofweek_str subscriber_type  trips_by_day_of_week\n",
       "0                 1              Sunday        Customer                 25908\n",
       "1                 1              Sunday      Subscriber                 25467\n",
       "2                 2              Monday        Customer                 15142\n",
       "3                 2              Monday      Subscriber                154795\n",
       "4                 3             Tuesday        Customer                 14737\n",
       "5                 3             Tuesday      Subscriber                169668\n",
       "6                 4           Wednesday        Customer                 15237\n",
       "7                 4           Wednesday      Subscriber                165530\n",
       "8                 5            Thursday        Customer                 16612\n",
       "9                 5            Thursday      Subscriber                160296\n",
       "10                6              Friday        Customer                 19929\n",
       "11                6              Friday      Subscriber                140048\n",
       "12                7            Saturday        Customer                 29244\n",
       "13                7            Saturday      Subscriber                 31035"
      ]
     },
     "execution_count": 22,
     "metadata": {},
     "output_type": "execute_result"
    }
   ],
   "source": [
    "dow_and_subscriber_counts = pd.read_csv('dow_and_subscriber_counts.csv')\n",
    "dow_and_subscriber_counts"
   ]
  },
  {
   "cell_type": "code",
   "execution_count": 27,
   "metadata": {},
   "outputs": [
    {
     "data": {
      "text/plain": [
       "Text(0.5, 1.0, 'Number of Trips per Day by Subscriber Type')"
      ]
     },
     "execution_count": 27,
     "metadata": {},
     "output_type": "execute_result"
    },
    {
     "data": {
      "image/png": "[encoded data removed]",
      "text/plain": [
       "<Figure size 432x288 with 1 Axes>"
      ]
     },
     "metadata": {
      "needs_background": "light"
     },
     "output_type": "display_data"
    }
   ],
   "source": [
    "sns.lineplot(data=dow_and_subscriber_counts, x=\"start_dayofweek_str\", y=\"trips_by_day_of_week\", hue=\"subscriber_type\", sort=False).set_title(\"Number of Trips per Day by Subscriber Type\")"
   ]
  },
  {
   "cell_type": "markdown",
   "metadata": {},
   "source": [
    "Based on the lineplots above, we notice that the on weekends, the customer trips and subscribers trip numbers are relatively the same, but over the weekdays, there is a stark difference between the number of trips for customers and subscribers. For customers, the number of trips on weekdays is only slightly less than the number of customer trips on weekends, but the number of subscriber trips skyrocket and are fairly consistent for every single weekday. We start to notice more ways we can further define what a commuter trip is, and we can incorporate the idea of a commuter trip occurring on a weekday and continuing on for other weekdays as well. \n",
    "\n",
    "In the next dataset and visualization, we will tie together the previous visualizations and start to see a connection between the starting hours and days of week. "
   ]
  },
  {
   "cell_type": "markdown",
   "metadata": {},
   "source": [
    "Let us run the below query and save it as a csv file called 'hours_and_dow.csv'\n",
    "\n",
    "```sql\n",
    "WITH hours_and_dow as (\n",
    "SELECT *,\n",
    "     EXTRACT(DAYOFWEEK FROM start_date) AS dow_int,\n",
    "     CASE \n",
    "         WHEN EXTRACT(DAYOFWEEK FROM start_date) IN (1, 7) THEN \"Weekend\"\n",
    "         ELSE \"Weekday\"\n",
    "         END AS dow_weekday,\n",
    "     EXTRACT(HOUR FROM start_date) AS start_hour\n",
    "FROM `bigquery-public-data.san_francisco.bikeshare_trips`\n",
    "ORDER BY start_date ASC\n",
    ")\n",
    "\n",
    "select dow_weekday, start_hour, count(*) as trips_by_hr_day\n",
    "from hours_and_dow \n",
    "group by dow_weekday,start_hour\n",
    "order by trips_by_hr_day DESC\n",
    "```"
   ]
  },
  {
   "cell_type": "code",
   "execution_count": 28,
   "metadata": {},
   "outputs": [
    {
     "name": "stdout",
     "output_type": "stream",
     "text": [
      "Waiting on bqjob_r5f9e05d02f7a6bbf_00000174e7100401_1 ... (2s) Current status: DONE   \n"
     ]
    }
   ],
   "source": [
    "! bq query --use_legacy_sql=FALSE --format=csv 'WITH hours_and_dow as (SELECT *, EXTRACT(DAYOFWEEK FROM start_date) AS dow_int, CASE WHEN EXTRACT(DAYOFWEEK FROM start_date) IN (1, 7) THEN \"Weekend\" ELSE \"Weekday\" END AS dow_weekday, EXTRACT(HOUR FROM start_date) AS start_hour FROM `bigquery-public-data.san_francisco.bikeshare_trips` ORDER BY start_date ASC) select dow_weekday, start_hour, count(*) as trips_by_hr_day from hours_and_dow  group by dow_weekday,start_hour order by trips_by_hr_day DESC' > hours_and_dow.csv "
   ]
  },
  {
   "cell_type": "code",
   "execution_count": 29,
   "metadata": {},
   "outputs": [
    {
     "data": {
      "text/html": [
       "<div>\n",
       "<style scoped>\n",
       "    .dataframe tbody tr th:only-of-type {\n",
       "        vertical-align: middle;\n",
       "    }\n",
       "\n",
       "    .dataframe tbody tr th {\n",
       "        vertical-align: top;\n",
       "    }\n",
       "\n",
       "    .dataframe thead th {\n",
       "        text-align: right;\n",
       "    }\n",
       "</style>\n",
       "<table border=\"1\" class=\"dataframe\">\n",
       "  <thead>\n",
       "    <tr style=\"text-align: right;\">\n",
       "      <th></th>\n",
       "      <th>dow_weekday</th>\n",
       "      <th>start_hour</th>\n",
       "      <th>trips_by_hr_day</th>\n",
       "    </tr>\n",
       "  </thead>\n",
       "  <tbody>\n",
       "    <tr>\n",
       "      <th>0</th>\n",
       "      <td>Weekday</td>\n",
       "      <td>8</td>\n",
       "      <td>128999</td>\n",
       "    </tr>\n",
       "    <tr>\n",
       "      <th>1</th>\n",
       "      <td>Weekday</td>\n",
       "      <td>17</td>\n",
       "      <td>118332</td>\n",
       "    </tr>\n",
       "    <tr>\n",
       "      <th>2</th>\n",
       "      <td>Weekday</td>\n",
       "      <td>9</td>\n",
       "      <td>90264</td>\n",
       "    </tr>\n",
       "    <tr>\n",
       "      <th>3</th>\n",
       "      <td>Weekday</td>\n",
       "      <td>16</td>\n",
       "      <td>79000</td>\n",
       "    </tr>\n",
       "    <tr>\n",
       "      <th>4</th>\n",
       "      <td>Weekday</td>\n",
       "      <td>18</td>\n",
       "      <td>78188</td>\n",
       "    </tr>\n",
       "    <tr>\n",
       "      <th>5</th>\n",
       "      <td>Weekday</td>\n",
       "      <td>7</td>\n",
       "      <td>65900</td>\n",
       "    </tr>\n",
       "    <tr>\n",
       "      <th>6</th>\n",
       "      <td>Weekday</td>\n",
       "      <td>15</td>\n",
       "      <td>37424</td>\n",
       "    </tr>\n",
       "    <tr>\n",
       "      <th>7</th>\n",
       "      <td>Weekday</td>\n",
       "      <td>19</td>\n",
       "      <td>36584</td>\n",
       "    </tr>\n",
       "    <tr>\n",
       "      <th>8</th>\n",
       "      <td>Weekday</td>\n",
       "      <td>12</td>\n",
       "      <td>36382</td>\n",
       "    </tr>\n",
       "    <tr>\n",
       "      <th>9</th>\n",
       "      <td>Weekday</td>\n",
       "      <td>10</td>\n",
       "      <td>34888</td>\n",
       "    </tr>\n",
       "    <tr>\n",
       "      <th>10</th>\n",
       "      <td>Weekday</td>\n",
       "      <td>13</td>\n",
       "      <td>33029</td>\n",
       "    </tr>\n",
       "    <tr>\n",
       "      <th>11</th>\n",
       "      <td>Weekday</td>\n",
       "      <td>11</td>\n",
       "      <td>30712</td>\n",
       "    </tr>\n",
       "    <tr>\n",
       "      <th>12</th>\n",
       "      <td>Weekday</td>\n",
       "      <td>14</td>\n",
       "      <td>27590</td>\n",
       "    </tr>\n",
       "    <tr>\n",
       "      <th>13</th>\n",
       "      <td>Weekday</td>\n",
       "      <td>6</td>\n",
       "      <td>19830</td>\n",
       "    </tr>\n",
       "    <tr>\n",
       "      <th>14</th>\n",
       "      <td>Weekday</td>\n",
       "      <td>20</td>\n",
       "      <td>19492</td>\n",
       "    </tr>\n",
       "    <tr>\n",
       "      <th>15</th>\n",
       "      <td>Weekday</td>\n",
       "      <td>21</td>\n",
       "      <td>12828</td>\n",
       "    </tr>\n",
       "    <tr>\n",
       "      <th>16</th>\n",
       "      <td>Weekend</td>\n",
       "      <td>13</td>\n",
       "      <td>10685</td>\n",
       "    </tr>\n",
       "    <tr>\n",
       "      <th>17</th>\n",
       "      <td>Weekend</td>\n",
       "      <td>12</td>\n",
       "      <td>10568</td>\n",
       "    </tr>\n",
       "    <tr>\n",
       "      <th>18</th>\n",
       "      <td>Weekend</td>\n",
       "      <td>14</td>\n",
       "      <td>10262</td>\n",
       "    </tr>\n",
       "    <tr>\n",
       "      <th>19</th>\n",
       "      <td>Weekend</td>\n",
       "      <td>15</td>\n",
       "      <td>10202</td>\n",
       "    </tr>\n",
       "    <tr>\n",
       "      <th>20</th>\n",
       "      <td>Weekend</td>\n",
       "      <td>16</td>\n",
       "      <td>9755</td>\n",
       "    </tr>\n",
       "    <tr>\n",
       "      <th>21</th>\n",
       "      <td>Weekend</td>\n",
       "      <td>11</td>\n",
       "      <td>9695</td>\n",
       "    </tr>\n",
       "    <tr>\n",
       "      <th>22</th>\n",
       "      <td>Weekday</td>\n",
       "      <td>22</td>\n",
       "      <td>8343</td>\n",
       "    </tr>\n",
       "    <tr>\n",
       "      <th>23</th>\n",
       "      <td>Weekend</td>\n",
       "      <td>17</td>\n",
       "      <td>7970</td>\n",
       "    </tr>\n",
       "    <tr>\n",
       "      <th>24</th>\n",
       "      <td>Weekend</td>\n",
       "      <td>10</td>\n",
       "      <td>7894</td>\n",
       "    </tr>\n",
       "    <tr>\n",
       "      <th>25</th>\n",
       "      <td>Weekend</td>\n",
       "      <td>18</td>\n",
       "      <td>6381</td>\n",
       "    </tr>\n",
       "    <tr>\n",
       "      <th>26</th>\n",
       "      <td>Weekend</td>\n",
       "      <td>9</td>\n",
       "      <td>5854</td>\n",
       "    </tr>\n",
       "    <tr>\n",
       "      <th>27</th>\n",
       "      <td>Weekday</td>\n",
       "      <td>5</td>\n",
       "      <td>4799</td>\n",
       "    </tr>\n",
       "    <tr>\n",
       "      <th>28</th>\n",
       "      <td>Weekday</td>\n",
       "      <td>23</td>\n",
       "      <td>4797</td>\n",
       "    </tr>\n",
       "    <tr>\n",
       "      <th>29</th>\n",
       "      <td>Weekend</td>\n",
       "      <td>19</td>\n",
       "      <td>4487</td>\n",
       "    </tr>\n",
       "    <tr>\n",
       "      <th>30</th>\n",
       "      <td>Weekend</td>\n",
       "      <td>8</td>\n",
       "      <td>3465</td>\n",
       "    </tr>\n",
       "    <tr>\n",
       "      <th>31</th>\n",
       "      <td>Weekend</td>\n",
       "      <td>20</td>\n",
       "      <td>3255</td>\n",
       "    </tr>\n",
       "    <tr>\n",
       "      <th>32</th>\n",
       "      <td>Weekend</td>\n",
       "      <td>21</td>\n",
       "      <td>2430</td>\n",
       "    </tr>\n",
       "    <tr>\n",
       "      <th>33</th>\n",
       "      <td>Weekend</td>\n",
       "      <td>22</td>\n",
       "      <td>1927</td>\n",
       "    </tr>\n",
       "    <tr>\n",
       "      <th>34</th>\n",
       "      <td>Weekday</td>\n",
       "      <td>0</td>\n",
       "      <td>1696</td>\n",
       "    </tr>\n",
       "    <tr>\n",
       "      <th>35</th>\n",
       "      <td>Weekend</td>\n",
       "      <td>7</td>\n",
       "      <td>1631</td>\n",
       "    </tr>\n",
       "    <tr>\n",
       "      <th>36</th>\n",
       "      <td>Weekend</td>\n",
       "      <td>23</td>\n",
       "      <td>1398</td>\n",
       "    </tr>\n",
       "    <tr>\n",
       "      <th>37</th>\n",
       "      <td>Weekday</td>\n",
       "      <td>4</td>\n",
       "      <td>1273</td>\n",
       "    </tr>\n",
       "    <tr>\n",
       "      <th>38</th>\n",
       "      <td>Weekend</td>\n",
       "      <td>0</td>\n",
       "      <td>1233</td>\n",
       "    </tr>\n",
       "    <tr>\n",
       "      <th>39</th>\n",
       "      <td>Weekend</td>\n",
       "      <td>1</td>\n",
       "      <td>814</td>\n",
       "    </tr>\n",
       "    <tr>\n",
       "      <th>40</th>\n",
       "      <td>Weekday</td>\n",
       "      <td>1</td>\n",
       "      <td>797</td>\n",
       "    </tr>\n",
       "    <tr>\n",
       "      <th>41</th>\n",
       "      <td>Weekend</td>\n",
       "      <td>6</td>\n",
       "      <td>689</td>\n",
       "    </tr>\n",
       "    <tr>\n",
       "      <th>42</th>\n",
       "      <td>Weekend</td>\n",
       "      <td>2</td>\n",
       "      <td>457</td>\n",
       "    </tr>\n",
       "    <tr>\n",
       "      <th>43</th>\n",
       "      <td>Weekday</td>\n",
       "      <td>3</td>\n",
       "      <td>427</td>\n",
       "    </tr>\n",
       "    <tr>\n",
       "      <th>44</th>\n",
       "      <td>Weekday</td>\n",
       "      <td>2</td>\n",
       "      <td>420</td>\n",
       "    </tr>\n",
       "    <tr>\n",
       "      <th>45</th>\n",
       "      <td>Weekend</td>\n",
       "      <td>5</td>\n",
       "      <td>299</td>\n",
       "    </tr>\n",
       "    <tr>\n",
       "      <th>46</th>\n",
       "      <td>Weekend</td>\n",
       "      <td>3</td>\n",
       "      <td>178</td>\n",
       "    </tr>\n",
       "    <tr>\n",
       "      <th>47</th>\n",
       "      <td>Weekend</td>\n",
       "      <td>4</td>\n",
       "      <td>125</td>\n",
       "    </tr>\n",
       "  </tbody>\n",
       "</table>\n",
       "</div>"
      ],
      "text/plain": [
       "   dow_weekday  start_hour  trips_by_hr_day\n",
       "0      Weekday           8           128999\n",
       "1      Weekday          17           118332\n",
       "2      Weekday           9            90264\n",
       "3      Weekday          16            79000\n",
       "4      Weekday          18            78188\n",
       "5      Weekday           7            65900\n",
       "6      Weekday          15            37424\n",
       "7      Weekday          19            36584\n",
       "8      Weekday          12            36382\n",
       "9      Weekday          10            34888\n",
       "10     Weekday          13            33029\n",
       "11     Weekday          11            30712\n",
       "12     Weekday          14            27590\n",
       "13     Weekday           6            19830\n",
       "14     Weekday          20            19492\n",
       "15     Weekday          21            12828\n",
       "16     Weekend          13            10685\n",
       "17     Weekend          12            10568\n",
       "18     Weekend          14            10262\n",
       "19     Weekend          15            10202\n",
       "20     Weekend          16             9755\n",
       "21     Weekend          11             9695\n",
       "22     Weekday          22             8343\n",
       "23     Weekend          17             7970\n",
       "24     Weekend          10             7894\n",
       "25     Weekend          18             6381\n",
       "26     Weekend           9             5854\n",
       "27     Weekday           5             4799\n",
       "28     Weekday          23             4797\n",
       "29     Weekend          19             4487\n",
       "30     Weekend           8             3465\n",
       "31     Weekend          20             3255\n",
       "32     Weekend          21             2430\n",
       "33     Weekend          22             1927\n",
       "34     Weekday           0             1696\n",
       "35     Weekend           7             1631\n",
       "36     Weekend          23             1398\n",
       "37     Weekday           4             1273\n",
       "38     Weekend           0             1233\n",
       "39     Weekend           1              814\n",
       "40     Weekday           1              797\n",
       "41     Weekend           6              689\n",
       "42     Weekend           2              457\n",
       "43     Weekday           3              427\n",
       "44     Weekday           2              420\n",
       "45     Weekend           5              299\n",
       "46     Weekend           3              178\n",
       "47     Weekend           4              125"
      ]
     },
     "execution_count": 29,
     "metadata": {},
     "output_type": "execute_result"
    }
   ],
   "source": [
    "hours_and_dow = pd.read_csv(\"hours_and_dow.csv\")\n",
    "hours_and_dow"
   ]
  },
  {
   "cell_type": "code",
   "execution_count": 35,
   "metadata": {},
   "outputs": [
    {
     "data": {
      "text/plain": [
       "Text(0.5, 1.0, 'Number of Trips by Hour of Day and Type of Day')"
      ]
     },
     "execution_count": 35,
     "metadata": {},
     "output_type": "execute_result"
    },
    {
     "data": {
      "image/png": "[encoded data removed]",
      "text/plain": [
       "<Figure size 864x720 with 1 Axes>"
      ]
     },
     "metadata": {},
     "output_type": "display_data"
    }
   ],
   "source": [
    "sns.set(rc={'figure.figsize':(12,10)})\n",
    "sns.barplot(data=hours_and_dow, x=\"start_hour\", y=\"trips_by_hr_day\", hue=\"dow_weekday\").set_title(\"Number of Trips by Hour of Day and Type of Day\")"
   ]
  },
  {
   "cell_type": "markdown",
   "metadata": {},
   "source": [
    "The visualization above resembles the first barchart of starting hours vs trips, and we see the overall trend being represented predominantly by the weekday trips. We can also infer that the majority of trips on weekdays are by subscribers, as they are the ones to commute to work regularly. So far, we can define commuter trips by its starting hours, mainly between 7am-9am or 4pm-6pm, and the days that it occurs, predominantly weekdays. \n",
    "\n",
    "Now let us see if the duration of the trip or whether or not the trip is a roundtrip can tell us more information. In addition, does the type of station that the trip starts and ends at significant? "
   ]
  },
  {
   "cell_type": "markdown",
   "metadata": {},
   "source": [
    "##### Duration"
   ]
  },
  {
   "cell_type": "markdown",
   "metadata": {},
   "source": [
    "Generally speaking, commuter trips are ones that occur periodically but are also quick trips. Non commuter trips for this dataset would be those that are much longer, predominantly done by customers, and for the purpose of city exploration, tourism, or sightseeing, all of which are time consuming processes. The goal of a commuter trip is normally to get to one place to another in the quickest, most convenient way possible. With those assumptions about commuter trips being made, let's take a look at the relationship between trip duration. "
   ]
  },
  {
   "cell_type": "markdown",
   "metadata": {},
   "source": [
    "Let us run the below query and save it as a csv file called 'avg_duration_by_day_type.csv'\n",
    "\n",
    "```sql\n",
    "WITH weekday_weekend AS (\n",
    "SELECT start_date, duration_sec,\n",
    "     EXTRACT(DAYOFWEEK FROM start_date) AS dow_int,\n",
    "     CASE EXTRACT(DAYOFWEEK FROM start_date)\n",
    "         WHEN 1 THEN \"Sunday\"\n",
    "         WHEN 2 THEN \"Monday\"\n",
    "         WHEN 3 THEN \"Tuesday\"\n",
    "         WHEN 4 THEN \"Wednesday\"\n",
    "         WHEN 5 THEN \"Thursday\"\n",
    "         WHEN 6 THEN \"Friday\"\n",
    "         WHEN 7 THEN \"Saturday\"\n",
    "         END AS dow_str,\n",
    "     CASE \n",
    "         WHEN EXTRACT(DAYOFWEEK FROM start_date) IN (1, 7) THEN \"Weekend\"\n",
    "         ELSE \"Weekday\"\n",
    "         END AS weekday_or_weekend\n",
    " FROM `bigquery-public-data.san_francisco.bikeshare_trips`\n",
    " ORDER BY start_date ASC\n",
    ")\n",
    "select weekday_or_weekend, avg(duration_sec/60) as avg_duration_min\n",
    "from weekday_weekend\n",
    "group by weekday_or_weekend\n",
    "```"
   ]
  },
  {
   "cell_type": "code",
   "execution_count": 40,
   "metadata": {},
   "outputs": [
    {
     "name": "stdout",
     "output_type": "stream",
     "text": [
      "Waiting on bqjob_r1aa0e31e892d1772_00000174e7329965_1 ... (1s) Current status: DONE   \n"
     ]
    }
   ],
   "source": [
    "! bq query --use_legacy_sql=FALSE --format=csv 'WITH weekday_weekend AS (SELECT start_date, duration_sec, EXTRACT(DAYOFWEEK FROM start_date) AS dow_int, CASE EXTRACT(DAYOFWEEK FROM start_date) WHEN 1 THEN \"Sunday\" WHEN 2 THEN \"Monday\" WHEN 3 THEN \"Tuesday\" WHEN 4 THEN \"Wednesday\" WHEN 5 THEN \"Thursday\" WHEN 6 THEN \"Friday\" WHEN 7 THEN \"Saturday\" END AS dow_str, CASE  WHEN EXTRACT(DAYOFWEEK FROM start_date) IN (1, 7) THEN \"Weekend\" ELSE \"Weekday\" END AS weekday_or_weekend FROM `bigquery-public-data.san_francisco.bikeshare_trips` ORDER BY start_date ASC) select weekday_or_weekend, avg(duration_sec/60) as avg_duration_min from weekday_weekend group by weekday_or_weekend' > avg_duration_by_day_type.csv"
   ]
  },
  {
   "cell_type": "code",
   "execution_count": 41,
   "metadata": {},
   "outputs": [
    {
     "data": {
      "text/html": [
       "<div>\n",
       "<style scoped>\n",
       "    .dataframe tbody tr th:only-of-type {\n",
       "        vertical-align: middle;\n",
       "    }\n",
       "\n",
       "    .dataframe tbody tr th {\n",
       "        vertical-align: top;\n",
       "    }\n",
       "\n",
       "    .dataframe thead th {\n",
       "        text-align: right;\n",
       "    }\n",
       "</style>\n",
       "<table border=\"1\" class=\"dataframe\">\n",
       "  <thead>\n",
       "    <tr style=\"text-align: right;\">\n",
       "      <th></th>\n",
       "      <th>weekday_or_weekend</th>\n",
       "      <th>avg_duration_min</th>\n",
       "    </tr>\n",
       "  </thead>\n",
       "  <tbody>\n",
       "    <tr>\n",
       "      <th>0</th>\n",
       "      <td>Weekday</td>\n",
       "      <td>13.817273</td>\n",
       "    </tr>\n",
       "    <tr>\n",
       "      <th>1</th>\n",
       "      <td>Weekend</td>\n",
       "      <td>41.699662</td>\n",
       "    </tr>\n",
       "  </tbody>\n",
       "</table>\n",
       "</div>"
      ],
      "text/plain": [
       "  weekday_or_weekend  avg_duration_min\n",
       "0            Weekday         13.817273\n",
       "1            Weekend         41.699662"
      ]
     },
     "execution_count": 41,
     "metadata": {},
     "output_type": "execute_result"
    }
   ],
   "source": [
    "avg_duration_by_day_type = pd.read_csv(\"avg_duration_by_day_type.csv\")\n",
    "avg_duration_by_day_type"
   ]
  },
  {
   "cell_type": "markdown",
   "metadata": {},
   "source": [
    "On weekdays, we have already seen a significantly large number of trips, mainly subscriber trips, and based on the dataframe above, on average, these trips are around the 13 minute range, give or take a couple of minutes. On the weekend, when there are fewer trips and mainly customer trips, those trips are around the 40 minute range, implying that when looking for our commuter trips, we can eliminate trips that may exceed 20 minutes. These 40 minutes trips most likely serve a different purpose that doesn't require getting to and from a workplace. "
   ]
  },
  {
   "cell_type": "markdown",
   "metadata": {},
   "source": [
    "In addition, let's take a look at the relationship between subscriber type and average duration. "
   ]
  },
  {
   "cell_type": "code",
   "execution_count": 46,
   "metadata": {},
   "outputs": [
    {
     "name": "stdout",
     "output_type": "stream",
     "text": [
      "Waiting on bqjob_r5e7a3351a86b1b06_00000174e76fe376_1 ... (0s) Current status: DONE   \n"
     ]
    }
   ],
   "source": [
    "! bq query --use_legacy_sql=FALSE --format=csv 'SELECT subscriber_type, avg(duration_sec/60) as average_duration_min from `bigquery-public-data.san_francisco.bikeshare_trips` GROUP BY subscriber_type' > avg_duration_by_subscriber_type.csv "
   ]
  },
  {
   "cell_type": "code",
   "execution_count": 47,
   "metadata": {},
   "outputs": [
    {
     "data": {
      "text/html": [
       "<div>\n",
       "<style scoped>\n",
       "    .dataframe tbody tr th:only-of-type {\n",
       "        vertical-align: middle;\n",
       "    }\n",
       "\n",
       "    .dataframe tbody tr th {\n",
       "        vertical-align: top;\n",
       "    }\n",
       "\n",
       "    .dataframe thead th {\n",
       "        text-align: right;\n",
       "    }\n",
       "</style>\n",
       "<table border=\"1\" class=\"dataframe\">\n",
       "  <thead>\n",
       "    <tr style=\"text-align: right;\">\n",
       "      <th></th>\n",
       "      <th>subscriber_type</th>\n",
       "      <th>average_duration_min</th>\n",
       "    </tr>\n",
       "  </thead>\n",
       "  <tbody>\n",
       "    <tr>\n",
       "      <th>0</th>\n",
       "      <td>Customer</td>\n",
       "      <td>61.979753</td>\n",
       "    </tr>\n",
       "    <tr>\n",
       "      <th>1</th>\n",
       "      <td>Subscriber</td>\n",
       "      <td>9.712737</td>\n",
       "    </tr>\n",
       "  </tbody>\n",
       "</table>\n",
       "</div>"
      ],
      "text/plain": [
       "  subscriber_type  average_duration_min\n",
       "0        Customer             61.979753\n",
       "1      Subscriber              9.712737"
      ]
     },
     "execution_count": 47,
     "metadata": {},
     "output_type": "execute_result"
    }
   ],
   "source": [
    "avg_dur_by_subscriber = pd.read_csv('avg_duration_by_subscriber_type.csv')\n",
    "avg_dur_by_subscriber"
   ]
  },
  {
   "cell_type": "markdown",
   "metadata": {},
   "source": [
    "Based on the above aggregation, customers, who wouldn't be using the bikes on a regular basis and when they do, ride for an average of almost an hour, while frequent-riding subscribers take more short trips, which on average are 9.7 minutes long. This corresponds with the average duration by day type, where weekday trips dominated by subscribers are shorter trips on average than weekend trips where customers are more prevalent. "
   ]
  },
  {
   "cell_type": "markdown",
   "metadata": {},
   "source": [
    "##### Significance of Round Trips"
   ]
  },
  {
   "cell_type": "markdown",
   "metadata": {},
   "source": [
    "Where would commuters tend to go? What are their destinations for start and end stations? Generally, commuters will start riding from one place and end up somewhere else, especially at a place of work. It is highly unlikely for someone commuting to work to take a round trip. Rather it would be tourists or people exploring the city who would do that. To test our assumption, let's take a look at the frequency of round trips in the bikeshare_trips data. "
   ]
  },
  {
   "cell_type": "code",
   "execution_count": 48,
   "metadata": {},
   "outputs": [
    {
     "name": "stdout",
     "output_type": "stream",
     "text": [
      "Waiting on bqjob_rf4000542bdc553c_00000174e78a4ef0_1 ... (0s) Current status: DONE   \n"
     ]
    }
   ],
   "source": [
    "! bq query --use_legacy_sql=FALSE --format=csv 'SELECT start_station_name, end_station_name, count(*) AS number_of_trips FROM `bigquery-public-data.san_francisco.bikeshare_trips` WHERE start_station_name = end_station_name GROUP BY start_station_name, end_station_name ORDER BY number_of_trips DESC' > round_trips.csv"
   ]
  },
  {
   "cell_type": "code",
   "execution_count": 49,
   "metadata": {},
   "outputs": [
    {
     "data": {
      "text/html": [
       "<div>\n",
       "<style scoped>\n",
       "    .dataframe tbody tr th:only-of-type {\n",
       "        vertical-align: middle;\n",
       "    }\n",
       "\n",
       "    .dataframe tbody tr th {\n",
       "        vertical-align: top;\n",
       "    }\n",
       "\n",
       "    .dataframe thead th {\n",
       "        text-align: right;\n",
       "    }\n",
       "</style>\n",
       "<table border=\"1\" class=\"dataframe\">\n",
       "  <thead>\n",
       "    <tr style=\"text-align: right;\">\n",
       "      <th></th>\n",
       "      <th>start_station_name</th>\n",
       "      <th>end_station_name</th>\n",
       "      <th>number_of_trips</th>\n",
       "    </tr>\n",
       "  </thead>\n",
       "  <tbody>\n",
       "    <tr>\n",
       "      <th>0</th>\n",
       "      <td>Embarcadero at Sansome</td>\n",
       "      <td>Embarcadero at Sansome</td>\n",
       "      <td>2866</td>\n",
       "    </tr>\n",
       "    <tr>\n",
       "      <th>1</th>\n",
       "      <td>Harry Bridges Plaza (Ferry Building)</td>\n",
       "      <td>Harry Bridges Plaza (Ferry Building)</td>\n",
       "      <td>2364</td>\n",
       "    </tr>\n",
       "    <tr>\n",
       "      <th>2</th>\n",
       "      <td>University and Emerson</td>\n",
       "      <td>University and Emerson</td>\n",
       "      <td>1184</td>\n",
       "    </tr>\n",
       "    <tr>\n",
       "      <th>3</th>\n",
       "      <td>Market at 4th</td>\n",
       "      <td>Market at 4th</td>\n",
       "      <td>944</td>\n",
       "    </tr>\n",
       "    <tr>\n",
       "      <th>4</th>\n",
       "      <td>Steuart at Market</td>\n",
       "      <td>Steuart at Market</td>\n",
       "      <td>911</td>\n",
       "    </tr>\n",
       "    <tr>\n",
       "      <th>...</th>\n",
       "      <td>...</td>\n",
       "      <td>...</td>\n",
       "      <td>...</td>\n",
       "    </tr>\n",
       "    <tr>\n",
       "      <th>77</th>\n",
       "      <td>Cyril Magnin St at Ellis St</td>\n",
       "      <td>Cyril Magnin St at Ellis St</td>\n",
       "      <td>10</td>\n",
       "    </tr>\n",
       "    <tr>\n",
       "      <th>78</th>\n",
       "      <td>5th S at E. San Salvador St</td>\n",
       "      <td>5th S at E. San Salvador St</td>\n",
       "      <td>7</td>\n",
       "    </tr>\n",
       "    <tr>\n",
       "      <th>79</th>\n",
       "      <td>Kaiser Hospital</td>\n",
       "      <td>Kaiser Hospital</td>\n",
       "      <td>6</td>\n",
       "    </tr>\n",
       "    <tr>\n",
       "      <th>80</th>\n",
       "      <td>Sequoia Hospital</td>\n",
       "      <td>Sequoia Hospital</td>\n",
       "      <td>4</td>\n",
       "    </tr>\n",
       "    <tr>\n",
       "      <th>81</th>\n",
       "      <td>5th St at Folsom St</td>\n",
       "      <td>5th St at Folsom St</td>\n",
       "      <td>2</td>\n",
       "    </tr>\n",
       "  </tbody>\n",
       "</table>\n",
       "<p>82 rows × 3 columns</p>\n",
       "</div>"
      ],
      "text/plain": [
       "                      start_station_name  \\\n",
       "0                 Embarcadero at Sansome   \n",
       "1   Harry Bridges Plaza (Ferry Building)   \n",
       "2                 University and Emerson   \n",
       "3                          Market at 4th   \n",
       "4                      Steuart at Market   \n",
       "..                                   ...   \n",
       "77           Cyril Magnin St at Ellis St   \n",
       "78           5th S at E. San Salvador St   \n",
       "79                       Kaiser Hospital   \n",
       "80                      Sequoia Hospital   \n",
       "81                   5th St at Folsom St   \n",
       "\n",
       "                        end_station_name  number_of_trips  \n",
       "0                 Embarcadero at Sansome             2866  \n",
       "1   Harry Bridges Plaza (Ferry Building)             2364  \n",
       "2                 University and Emerson             1184  \n",
       "3                          Market at 4th              944  \n",
       "4                      Steuart at Market              911  \n",
       "..                                   ...              ...  \n",
       "77           Cyril Magnin St at Ellis St               10  \n",
       "78           5th S at E. San Salvador St                7  \n",
       "79                       Kaiser Hospital                6  \n",
       "80                      Sequoia Hospital                4  \n",
       "81                   5th St at Folsom St                2  \n",
       "\n",
       "[82 rows x 3 columns]"
      ]
     },
     "execution_count": 49,
     "metadata": {},
     "output_type": "execute_result"
    }
   ],
   "source": [
    "round_trips = pd.read_csv('round_trips.csv')\n",
    "round_trips"
   ]
  },
  {
   "cell_type": "markdown",
   "metadata": {},
   "source": [
    "There are 32047 round trips recorded in the data, meaning that only 3.25% percent of total trips are round trips. It is no coincidence that there are so few round trips and few customer trips. It also appears that most of the round trips are at \"touristy\" and sightseeing areas like Harry Bridges Plaza and Embarcadero at Sansome. Extending the discussion of round trips, we can further see if the round trips correspond to customer or subscriber trips by seeing the frequency of round trips based on days of the week. On the weekdays, there are very few round trips, and significantly most round trips take place over weekends, and more customer rides are also over the weekened. Because many round trips are completed by customers, this could also explain why many of the customer trips are longer in duration. "
   ]
  },
  {
   "cell_type": "code",
   "execution_count": 54,
   "metadata": {},
   "outputs": [
    {
     "name": "stdout",
     "output_type": "stream",
     "text": [
      "Waiting on bqjob_r7be92f5c2b9e98b8_00000174e791eedb_1 ... (0s) Current status: DONE   \n"
     ]
    }
   ],
   "source": [
    "! bq query --use_legacy_sql=FALSE --format=csv 'with round_trips_and_dow as (SELECT *, EXTRACT(DAYOFWEEK FROM start_date) AS dow_int FROM `bigquery-public-data.san_francisco.bikeshare_trips` WHERE start_station_name = end_station_name) select dow_int, count(*) as round_trips_by_dow from round_trips_and_dow group by dow_int order by dow_int' > round_trips_by_dow.csv "
   ]
  },
  {
   "cell_type": "code",
   "execution_count": 55,
   "metadata": {},
   "outputs": [
    {
     "data": {
      "text/html": [
       "<div>\n",
       "<style scoped>\n",
       "    .dataframe tbody tr th:only-of-type {\n",
       "        vertical-align: middle;\n",
       "    }\n",
       "\n",
       "    .dataframe tbody tr th {\n",
       "        vertical-align: top;\n",
       "    }\n",
       "\n",
       "    .dataframe thead th {\n",
       "        text-align: right;\n",
       "    }\n",
       "</style>\n",
       "<table border=\"1\" class=\"dataframe\">\n",
       "  <thead>\n",
       "    <tr style=\"text-align: right;\">\n",
       "      <th></th>\n",
       "      <th>dow_int</th>\n",
       "      <th>round_trips_by_dow</th>\n",
       "    </tr>\n",
       "  </thead>\n",
       "  <tbody>\n",
       "    <tr>\n",
       "      <th>0</th>\n",
       "      <td>1</td>\n",
       "      <td>6144</td>\n",
       "    </tr>\n",
       "    <tr>\n",
       "      <th>1</th>\n",
       "      <td>2</td>\n",
       "      <td>3879</td>\n",
       "    </tr>\n",
       "    <tr>\n",
       "      <th>2</th>\n",
       "      <td>3</td>\n",
       "      <td>3568</td>\n",
       "    </tr>\n",
       "    <tr>\n",
       "      <th>3</th>\n",
       "      <td>4</td>\n",
       "      <td>3651</td>\n",
       "    </tr>\n",
       "    <tr>\n",
       "      <th>4</th>\n",
       "      <td>5</td>\n",
       "      <td>4013</td>\n",
       "    </tr>\n",
       "    <tr>\n",
       "      <th>5</th>\n",
       "      <td>6</td>\n",
       "      <td>4662</td>\n",
       "    </tr>\n",
       "    <tr>\n",
       "      <th>6</th>\n",
       "      <td>7</td>\n",
       "      <td>6130</td>\n",
       "    </tr>\n",
       "  </tbody>\n",
       "</table>\n",
       "</div>"
      ],
      "text/plain": [
       "   dow_int  round_trips_by_dow\n",
       "0        1                6144\n",
       "1        2                3879\n",
       "2        3                3568\n",
       "3        4                3651\n",
       "4        5                4013\n",
       "5        6                4662\n",
       "6        7                6130"
      ]
     },
     "execution_count": 55,
     "metadata": {},
     "output_type": "execute_result"
    }
   ],
   "source": [
    "round_trips_by_dow = pd.read_csv('round_trips_by_dow.csv')\n",
    "round_trips_by_dow"
   ]
  },
  {
   "cell_type": "code",
   "execution_count": 56,
   "metadata": {},
   "outputs": [
    {
     "data": {
      "text/plain": [
       "<AxesSubplot:xlabel='dow_int', ylabel='round_trips_by_dow'>"
      ]
     },
     "execution_count": 56,
     "metadata": {},
     "output_type": "execute_result"
    },
    {
     "data": {
      "image/png": "[encoded data removed]",
      "text/plain": [
       "<Figure size 864x720 with 1 Axes>"
      ]
     },
     "metadata": {},
     "output_type": "display_data"
    }
   ],
   "source": [
    "sns.lineplot(data = round_trips_by_dow, x = 'dow_int', y = 'round_trips_by_dow')"
   ]
  },
  {
   "cell_type": "markdown",
   "metadata": {},
   "source": [
    "##### Significance of Train Stations"
   ]
  },
  {
   "cell_type": "markdown",
   "metadata": {},
   "source": [
    "Shifting the discussion further, we can assume that there is also some connection between taking the train to get to work and subsequently taking a bike ride to get to the final work destination. If commuters had cars, there would be no need to take a train or bike. Also, taking a train to get to work usually isn't enough, as there usually is an additional walk and distance required to actually get to the workplace. If the distance is greater, people would want to resort to a bike to get there quicker. \n"
   ]
  },
  {
   "cell_type": "markdown",
   "metadata": {},
   "source": [
    "Based on the query for the question \"How many of the stations are in close proximity to train stations?\", there are 11 out of 84 distinct bike stations that are associated with train stations. Additionally, 42% of trips in our bikeshare_trips data has a train station as a start or end station, which is a fairly large percentage. We can possibly attribute many of these trips to be from subscribers. As a matter of fact, we did see that San Francisco Caltrain 2 is a common start station for subscribers. "
   ]
  },
  {
   "cell_type": "markdown",
   "metadata": {},
   "source": [
    "### So what is a commuter trip? "
   ]
  },
  {
   "cell_type": "markdown",
   "metadata": {},
   "source": [
    "Based on the information we have gathered above, the trends we saw, and the characteristics we've investigated, we can define a commuter trip to be as those with a starting time occurring between 7 am and 9 am for the morning since those are the times that work usually begins and people are leaving their homes to get to the workplace, or between 4 pm and 6 pm for the evening since those are times people will depart from work to go home. These trips will not be round trips, and they will be around the 5-20 minute range. They are also ones that periodically occur on weekdays, and either the starting station or ending station or both will be a train station. In addition, those who take commuter trips are subscribers. \n",
    "\n",
    "Using this information, let us run a query to find the most popular commuter trips:"
   ]
  },
  {
   "cell_type": "code",
   "execution_count": 67,
   "metadata": {},
   "outputs": [
    {
     "name": "stdout",
     "output_type": "stream",
     "text": [
      "Waiting on bqjob_r3aef4b519b82c748_00000174e7cd2a0d_1 ... (1s) Current status: DONE   \n"
     ]
    }
   ],
   "source": [
    "! bq query --use_legacy_sql=FALSE --format=csv 'SELECT start_station_name, end_station_name, count(*) as trips_by_stations FROM `bike_trip_data.commuter_trips` GROUP BY start_station_name, end_station_name ORDER BY trips_by_stations DESC LIMIT 5' > top_5_commuter_trips.csv"
   ]
  },
  {
   "cell_type": "code",
   "execution_count": 68,
   "metadata": {},
   "outputs": [
    {
     "data": {
      "text/html": [
       "<div>\n",
       "<style scoped>\n",
       "    .dataframe tbody tr th:only-of-type {\n",
       "        vertical-align: middle;\n",
       "    }\n",
       "\n",
       "    .dataframe tbody tr th {\n",
       "        vertical-align: top;\n",
       "    }\n",
       "\n",
       "    .dataframe thead th {\n",
       "        text-align: right;\n",
       "    }\n",
       "</style>\n",
       "<table border=\"1\" class=\"dataframe\">\n",
       "  <thead>\n",
       "    <tr style=\"text-align: right;\">\n",
       "      <th></th>\n",
       "      <th>start_station_name</th>\n",
       "      <th>end_station_name</th>\n",
       "      <th>trips_by_stations</th>\n",
       "    </tr>\n",
       "  </thead>\n",
       "  <tbody>\n",
       "    <tr>\n",
       "      <th>0</th>\n",
       "      <td>Embarcadero at Folsom</td>\n",
       "      <td>San Francisco Caltrain (Townsend at 4th)</td>\n",
       "      <td>4692</td>\n",
       "    </tr>\n",
       "    <tr>\n",
       "      <th>1</th>\n",
       "      <td>San Francisco Caltrain (Townsend at 4th)</td>\n",
       "      <td>Harry Bridges Plaza (Ferry Building)</td>\n",
       "      <td>4628</td>\n",
       "    </tr>\n",
       "    <tr>\n",
       "      <th>2</th>\n",
       "      <td>Temporary Transbay Terminal (Howard at Beale)</td>\n",
       "      <td>San Francisco Caltrain (Townsend at 4th)</td>\n",
       "      <td>4479</td>\n",
       "    </tr>\n",
       "    <tr>\n",
       "      <th>3</th>\n",
       "      <td>Steuart at Market</td>\n",
       "      <td>San Francisco Caltrain (Townsend at 4th)</td>\n",
       "      <td>4398</td>\n",
       "    </tr>\n",
       "    <tr>\n",
       "      <th>4</th>\n",
       "      <td>Market at 10th</td>\n",
       "      <td>San Francisco Caltrain 2 (330 Townsend)</td>\n",
       "      <td>4061</td>\n",
       "    </tr>\n",
       "  </tbody>\n",
       "</table>\n",
       "</div>"
      ],
      "text/plain": [
       "                              start_station_name  \\\n",
       "0                          Embarcadero at Folsom   \n",
       "1       San Francisco Caltrain (Townsend at 4th)   \n",
       "2  Temporary Transbay Terminal (Howard at Beale)   \n",
       "3                              Steuart at Market   \n",
       "4                                 Market at 10th   \n",
       "\n",
       "                           end_station_name  trips_by_stations  \n",
       "0  San Francisco Caltrain (Townsend at 4th)               4692  \n",
       "1      Harry Bridges Plaza (Ferry Building)               4628  \n",
       "2  San Francisco Caltrain (Townsend at 4th)               4479  \n",
       "3  San Francisco Caltrain (Townsend at 4th)               4398  \n",
       "4   San Francisco Caltrain 2 (330 Townsend)               4061  "
      ]
     },
     "execution_count": 68,
     "metadata": {},
     "output_type": "execute_result"
    }
   ],
   "source": [
    "pd.read_csv('top_5_commuter_trips.csv')"
   ]
  },
  {
   "cell_type": "markdown",
   "metadata": {},
   "source": [
    "'bike_trip_data.commuter_trips' was a view generated by this query, which contained all the where commands corresponding to my definition of a commuter trip: \n",
    "\n",
    "```sql\n",
    "SELECT *\n",
    "FROM `bigquery-public-data.san_francisco.bikeshare_trips`\n",
    "WHERE start_station_name <> end_station_name \n",
    "and duration_sec >= 300 and duration_sec <= 1200 \n",
    "and (EXTRACT(DAYOFWEEK FROM start_date) <> 1 or EXTRACT(DAYOFWEEK FROM start_date) <> 7)\n",
    "and (EXTRACT(HOUR FROM start_date) = 7 or EXTRACT(HOUR FROM start_date) = 8 or EXTRACT(HOUR FROM start_date) = 9 \n",
    "      or EXTRACT(HOUR FROM start_date) = 16 or EXTRACT(HOUR FROM start_date) = 17 or EXTRACT(HOUR FROM start_date) = 18) \n",
    "and (start_station_name LIKE '%Caltrain%'\n",
    "  OR start_station_name LIKE '%BART%'\n",
    "  OR start_station_name LIKE '%Station%'\n",
    "  OR end_station_name LIKE '%Caltrain%'\n",
    "  OR end_station_name LIKE '%BART%'\n",
    "  OR end_station_name LIKE '%Station%')\n",
    "and subscriber_type = \"Subscriber\"\n",
    "```"
   ]
  },
  {
   "cell_type": "markdown",
   "metadata": {},
   "source": [
    "To get the 5 most popular commuter trips, I defined a trip in terms of its start and end station, which I grouped on to get the number of rows corresponding to that combination of start and end station. With the conditions/definitions of commuter trips applied, the top 5 commuter trips are \n",
    "```\n",
    "1) Embarcadero at Folsom to San Francisco Caltrain (Townsend at 4th)\n",
    "2) San Francisco Caltrain (Townsend at 4th) to Harry Bridges Plaza (Ferry Building)\n",
    "3) Temporary Transbay Terminal (Howard at Beale) to San Francisco Caltrain (Townsend at 4th)\n",
    "4) Steuart at Market to San Francisco Caltrain (Townsend at 4th)\n",
    "5) Market at 10th to San Francisco Caltrain 2 (330 Townsend)\n",
    "```\n",
    "\n",
    "It is important to notice that the majority of trips involve the San Francisco Caltrain in some way. Therefore should expect the most commuter bike trips to occur between these station combinations.\n"
   ]
  },
  {
   "cell_type": "markdown",
   "metadata": {},
   "source": [
    "#### Recommendations"
   ]
  },
  {
   "cell_type": "markdown",
   "metadata": {},
   "source": [
    "From the above visualizations, it is clear that subscribers and commuter trips are the bulk of the business. I want to ensure that whatever offers or recommendations I suggest will not take away from them, but it would be interesting to take a look at areas where bike rides are fewer. \n",
    "\n",
    "For example, we can take a look at the number of trips by month and year: "
   ]
  },
  {
   "cell_type": "code",
   "execution_count": 70,
   "metadata": {},
   "outputs": [
    {
     "name": "stdout",
     "output_type": "stream",
     "text": [
      "Waiting on bqjob_r65f9a3433f95efcb_00000174e7daa0ba_1 ... (1s) Current status: DONE   \n"
     ]
    }
   ],
   "source": [
    "! bq query --use_legacy_sql=FALSE --format=csv 'WITH start_month_yr_extracted AS (SELECT *, EXTRACT(YEAR FROM start_date) AS start_year, EXTRACT(MONTH FROM start_date) AS start_month, CASE EXTRACT(MONTH FROM start_date) WHEN 1 THEN \"January\" WHEN 2 THEN \"February\" WHEN 3 THEN \"March\" WHEN 4 THEN \"April\" WHEN 5 THEN \"May\" WHEN 6 THEN \"June\" WHEN 7 THEN \"July\" WHEN 8 THEN \"August\" WHEN 9 THEN \"September\" WHEN 10 THEN \"October\" WHEN 11 THEN \"November\" WHEN 12 THEN \"December\" END AS start_month_str FROM `bigquery-public-data.san_francisco.bikeshare_trips` ORDER BY start_date ASC) SELECT start_year, start_month, count(*) as trips_by_month_and_year FROM start_month_yr_extracted GROUP by start_year, start_month ORDER by start_year, start_month ASC' > trips_by_month_yr.csv"
   ]
  },
  {
   "cell_type": "code",
   "execution_count": 75,
   "metadata": {},
   "outputs": [
    {
     "data": {
      "text/html": [
       "<div>\n",
       "<style scoped>\n",
       "    .dataframe tbody tr th:only-of-type {\n",
       "        vertical-align: middle;\n",
       "    }\n",
       "\n",
       "    .dataframe tbody tr th {\n",
       "        vertical-align: top;\n",
       "    }\n",
       "\n",
       "    .dataframe thead th {\n",
       "        text-align: right;\n",
       "    }\n",
       "</style>\n",
       "<table border=\"1\" class=\"dataframe\">\n",
       "  <thead>\n",
       "    <tr style=\"text-align: right;\">\n",
       "      <th></th>\n",
       "      <th>start_year</th>\n",
       "      <th>start_month</th>\n",
       "      <th>trips_by_month_and_year</th>\n",
       "    </tr>\n",
       "  </thead>\n",
       "  <tbody>\n",
       "    <tr>\n",
       "      <th>0</th>\n",
       "      <td>2013</td>\n",
       "      <td>8</td>\n",
       "      <td>2102</td>\n",
       "    </tr>\n",
       "    <tr>\n",
       "      <th>1</th>\n",
       "      <td>2013</td>\n",
       "      <td>9</td>\n",
       "      <td>25243</td>\n",
       "    </tr>\n",
       "    <tr>\n",
       "      <th>2</th>\n",
       "      <td>2013</td>\n",
       "      <td>10</td>\n",
       "      <td>29105</td>\n",
       "    </tr>\n",
       "    <tr>\n",
       "      <th>3</th>\n",
       "      <td>2013</td>\n",
       "      <td>11</td>\n",
       "      <td>24219</td>\n",
       "    </tr>\n",
       "    <tr>\n",
       "      <th>4</th>\n",
       "      <td>2013</td>\n",
       "      <td>12</td>\n",
       "      <td>19894</td>\n",
       "    </tr>\n",
       "  </tbody>\n",
       "</table>\n",
       "</div>"
      ],
      "text/plain": [
       "   start_year  start_month  trips_by_month_and_year\n",
       "0        2013            8                     2102\n",
       "1        2013            9                    25243\n",
       "2        2013           10                    29105\n",
       "3        2013           11                    24219\n",
       "4        2013           12                    19894"
      ]
     },
     "execution_count": 75,
     "metadata": {},
     "output_type": "execute_result"
    }
   ],
   "source": [
    "trips_by_month_yr = pd.read_csv(\"trips_by_month_yr.csv\")\n",
    "trips_by_month_yr.head()"
   ]
  },
  {
   "cell_type": "code",
   "execution_count": 74,
   "metadata": {},
   "outputs": [
    {
     "data": {
      "text/plain": [
       "<AxesSubplot:xlabel='start_month', ylabel='trips_by_month_and_year'>"
      ]
     },
     "execution_count": 74,
     "metadata": {},
     "output_type": "execute_result"
    },
    {
     "data": {
      "image/png": "[encoded data removed]",
      "text/plain": [
       "<Figure size 864x720 with 1 Axes>"
      ]
     },
     "metadata": {},
     "output_type": "display_data"
    }
   ],
   "source": [
    "sns.lineplot(data = trips_by_month_yr, x = 'start_month', y = 'trips_by_month_and_year', hue = 'start_year')"
   ]
  },
  {
   "cell_type": "markdown",
   "metadata": {},
   "source": [
    "##### Winter Discount"
   ]
  },
  {
   "cell_type": "markdown",
   "metadata": {},
   "source": [
    "August 2013 had the least number of bike trips, with 2102 trips, while October 2014 had the most number of bike trips, with 34220 bike trips recorded. Overall within the months of May-October, we see the number of bike trips in the 30000 range, and in the months November, December, January, and February,we see fewer bike trips as they dwindle down in the 10000-20000 range, which isn't surprising because we should expect fewer people to ride bikes when it's colder outside.\n",
    "\n",
    "We could invest in a potential business opportunity to increase ridership during the winter months. Even though it's highly unlikely that people will ride due to inclement weather, subscribers are more likely to still ride because of work obligations. For customers, we can decrease the price of a single ride to 1 dollar instead of 2 dollars during the months of December, January, and February. \n",
    "\n",
    "On holidays such as Christmas and Thanksgiving, which happen to also occur during the winter time, we can eliminate the 2 dollar unlock fee for customers, and overall reduce the ebike minute price by 5 cents."
   ]
  },
  {
   "cell_type": "markdown",
   "metadata": {},
   "source": [
    "##### Partnership with BART and Caltrain"
   ]
  },
  {
   "cell_type": "markdown",
   "metadata": {},
   "source": [
    "Additionally, we saw above the relationship between train stations and bike rides for subscribers, as approximately 42% of all trips occurred at a train station. We could potentially have a partnership with the BART and Caltrain systems to promise subscribers a potential discount on their train passes provided they take a Lyft bike to work after taking the train. \n",
    "\n"
   ]
  },
  {
   "cell_type": "markdown",
   "metadata": {},
   "source": [
    "##### The Less Popular Stations"
   ]
  },
  {
   "cell_type": "markdown",
   "metadata": {},
   "source": [
    "In addition, there appear to be instances where there are no bikes available for the common commuter hours, so we could potentially add more bikes to those impacted stations and reduce the number of docks at stations that aren't as popular for riders. Alternatively, to perhaps encourage ridership at stations that aren't so popular, we can have discounted ebike prices (perhaps 5-10 cents lower) if riders stop or start at less popular stations, and this could even encourage more appreciation and exploration of the areas surrounding those stations. "
   ]
  },
  {
   "cell_type": "markdown",
   "metadata": {},
   "source": [
    "##### Customer Discounts"
   ]
  },
  {
   "cell_type": "markdown",
   "metadata": {},
   "source": [
    "We notice that the average duration for a customer bike ride is around 40 minutes. Currently, exceeding a 30 minute ride makes the ride more costly. Because customers are riding much longer than 30 minutes, perhaps increasing the limit to 45 minutes to even 1 hour could allow for customers to ride longer and relax without feeling limited by the 30 minute time constraint. "
   ]
  },
  {
   "cell_type": "markdown",
   "metadata": {},
   "source": [
    "##### Subscriber Rewards"
   ]
  },
  {
   "cell_type": "markdown",
   "metadata": {},
   "source": [
    "We certainly want to show our appreciation for our subscribers, who contribute a lot to our business. We can introduce a reward system where for after every 100 minutes of riding, subscribers can get three days of free ebike rides, rather than having to pay 15 cents a minute for ebikes. This can motivate more and longer rides out of subscribers in the long term, and encourage them to ride outside of their commuting hours. "
   ]
  },
  {
   "cell_type": "markdown",
   "metadata": {},
   "source": [
    "#### Trends in Customer and Subscriber Rides"
   ]
  },
  {
   "cell_type": "code",
   "execution_count": 78,
   "metadata": {},
   "outputs": [
    {
     "name": "stdout",
     "output_type": "stream",
     "text": [
      "Waiting on bqjob_r3c2bc35ec2a27729_00000174e7f3b131_1 ... (0s) Current status: DONE   \n"
     ]
    }
   ],
   "source": [
    "! bq query --use_legacy_sql=FALSE --format=csv 'select EXTRACT(YEAR FROM start_date) AS start_year, subscriber_type, count(*) as year_and_subscriber_type_count from `bigquery-public-data.san_francisco.bikeshare_trips` group by start_year, subscriber_type order by start_year, subscriber_type' > trip_yr_trends.csv\n"
   ]
  },
  {
   "cell_type": "code",
   "execution_count": 86,
   "metadata": {},
   "outputs": [],
   "source": [
    "trips_by_yr = pd.read_csv(\"trip_yr_trends.csv\")"
   ]
  },
  {
   "cell_type": "code",
   "execution_count": 87,
   "metadata": {},
   "outputs": [
    {
     "data": {
      "text/plain": [
       "<AxesSubplot:xlabel='start_year', ylabel='year_and_subscriber_type_count'>"
      ]
     },
     "execution_count": 87,
     "metadata": {},
     "output_type": "execute_result"
    },
    {
     "data": {
      "image/png": "[encoded data removed]",
      "text/plain": [
       "<Figure size 864x720 with 1 Axes>"
      ]
     },
     "metadata": {},
     "output_type": "display_data"
    }
   ],
   "source": [
    "sns.lineplot(data = trips_by_yr, x = 'start_year', y = 'year_and_subscriber_type_count', hue = 'subscriber_type')"
   ]
  },
  {
   "cell_type": "markdown",
   "metadata": {},
   "source": [
    "Based on the lineplots above, for customer trips, we see an increase in trips from 2013 to 2014, but after 2014, we see nothing but decreases. For subscriber trips, there were 76064 of them in 2013. We see a significant increase from 2013 to 2014. We see another steady increase in 2015, but the number of trips declines in 2016. \n",
    "\n",
    "To deal with the issue of reduction in customer and subscriber trips, perhaps it would be useful to re-evaluate the pricing of trips per minute. \n",
    "\n"
   ]
  },
  {
   "cell_type": "markdown",
   "metadata": {},
   "source": [
    "##### Introduce a Dockless System"
   ]
  },
  {
   "cell_type": "markdown",
   "metadata": {},
   "source": [
    "Another major issue is that riders are expected to drop off their bikes at designated docks after their trip, which could've possibly resulted in the drops in trips over the years. Due to the constraints of 30 minute rides for customers, there is an intense pressure to have to find the nearest bike station and drop their bike off without having to pay extra money. Moreover, the drop off process involves needing docks available to properly park the bike after usage. \n",
    "\n",
    "Perhaps, we can introduce a dockless system where after a trip, the bike can be dropped anywhere on a sidewalk, especially because there could be issues where a dock area is completely occupied and riders will have to pay extra money for being unable to park their bike properly. This alternative could make bikes easier to find and there is less pressure and rush to have to park. "
   ]
  },
  {
   "cell_type": "code",
   "execution_count": null,
   "metadata": {},
   "outputs": [],
   "source": []
  }
 ],
 "metadata": {
  "environment": {
   "name": "tf2-2-3-gpu.2-3.m55",
   "type": "gcloud",
   "uri": "gcr.io/deeplearning-platform-release/tf2-2-3-gpu.2-3:m55"
  },
  "kernelspec": {
   "display_name": "Python 3",
   "language": "python",
   "name": "python3"
  },
  "language_info": {
   "codemirror_mode": {
    "name": "ipython",
    "version": 3
   },
   "file_extension": ".py",
   "mimetype": "text/x-python",
   "name": "python",
   "nbconvert_exporter": "python",
   "pygments_lexer": "ipython3",
   "version": "3.7.8"
  }
 },
 "nbformat": 4,
 "nbformat_minor": 4
}
